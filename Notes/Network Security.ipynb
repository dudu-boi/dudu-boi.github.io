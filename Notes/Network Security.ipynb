{
 "cells": [
  {
   "cell_type": "markdown",
   "id": "04f541c5",
   "metadata": {},
   "source": [
    "# Network Security"
   ]
  },
  {
   "cell_type": "markdown",
   "id": "cb6c9c46",
   "metadata": {},
   "source": [
    "### Repeater"
   ]
  },
  {
   "cell_type": "markdown",
   "id": "9d8a27de",
   "metadata": {},
   "source": [
    "<ul>\n",
    "    <li> Operates at Physical Layer\n",
    "    <li> Amplifies weak and corrupted signals for all deivces connected"
   ]
  },
  {
   "cell_type": "markdown",
   "id": "596de23d",
   "metadata": {},
   "source": [
    "### Hub"
   ]
  },
  {
   "cell_type": "markdown",
   "id": "640b3607",
   "metadata": {},
   "source": [
    "Essentially a **multi-port _repeater_**"
   ]
  },
  {
   "cell_type": "markdown",
   "id": "eef3b2a7",
   "metadata": {},
   "source": [
    "### Bridge"
   ]
  },
  {
   "cell_type": "markdown",
   "id": "309e013f",
   "metadata": {},
   "source": [
    "<ul>\n",
    "    <li>Functions at DataLink layer\n",
    "    <li>Unit = Frame <em>(contain MAC address)</em>"
   ]
  },
  {
   "cell_type": "markdown",
   "id": "38ed36b1",
   "metadata": {},
   "source": [
    "### Switch"
   ]
  },
  {
   "cell_type": "markdown",
   "id": "aa326ede",
   "metadata": {},
   "source": [
    "Essentially a **multi-port _bridge_**<br>\n",
    "**Function:**\n",
    "<ul> \n",
    "    <li>Learning addresses --> CAM table\n",
    "    <li>Works at layer 2 \n",
    "    </ul>\n",
    "<span style = \"font-size: 15px\"><em>This is where DDOS attacks aim at</em>"
   ]
  },
  {
   "cell_type": "markdown",
   "id": "af665625",
   "metadata": {},
   "source": [
    "### Router"
   ]
  },
  {
   "cell_type": "markdown",
   "id": "78ad4188",
   "metadata": {},
   "source": [
    "<ul>\n",
    "    <li>Operates at Network Layer\n",
    "    <li> Execute protocols\n",
    "    <ul>\n",
    "        <li>Routing protocols\n",
    "        <li>Routed\n",
    "    </ul>\n",
    "    <li> h"
   ]
  }
 ],
 "metadata": {
  "language_info": {
   "name": "python"
  }
 },
 "nbformat": 4,
 "nbformat_minor": 5
}
